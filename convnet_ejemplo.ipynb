{
 "cells": [
  {
   "cell_type": "markdown",
   "metadata": {},
   "source": [
    "# Redes Convolucionales"
   ]
  },
  {
   "cell_type": "code",
   "execution_count": 1,
   "metadata": {
    "collapsed": true
   },
   "outputs": [],
   "source": [
    "# Este notebook ha sido adptado del creado por: Aymeric Damien\n",
    "# Project: https://github.com/aymericdamien/TensorFlow-Examples/"
   ]
  },
  {
   "cell_type": "code",
   "execution_count": 2,
   "metadata": {
    "collapsed": false
   },
   "outputs": [
    {
     "name": "stdout",
     "output_type": "stream",
     "text": [
      "Successfully downloaded train-images-idx3-ubyte.gz 9912422 bytes.\n",
      "Extracting tmp/data/train-images-idx3-ubyte.gz\n",
      "Successfully downloaded train-labels-idx1-ubyte.gz 28881 bytes.\n",
      "Extracting tmp/data/train-labels-idx1-ubyte.gz\n",
      "Successfully downloaded t10k-images-idx3-ubyte.gz 1648877 bytes.\n",
      "Extracting tmp/data/t10k-images-idx3-ubyte.gz\n",
      "Successfully downloaded t10k-labels-idx1-ubyte.gz 4542 bytes.\n",
      "Extracting tmp/data/t10k-labels-idx1-ubyte.gz\n"
     ]
    }
   ],
   "source": [
    "# Trabajamos de nuevo con MNIST\n",
    "from tensorflow.examples.tutorials.mnist import input_data\n",
    "mnist = input_data.read_data_sets(\"tmp/data/\", one_hot=True)"
   ]
  },
  {
   "cell_type": "code",
   "execution_count": 3,
   "metadata": {
    "collapsed": false
   },
   "outputs": [],
   "source": [
    "import tensorflow as tf"
   ]
  },
  {
   "cell_type": "code",
   "execution_count": 4,
   "metadata": {
    "collapsed": true
   },
   "outputs": [],
   "source": [
    "# Los parámetros con los que trabajamos se asemejan al ejemplo de ayer de autoencoders\n",
    "learning_rate = 0.001\n",
    "training_iters = 100000\n",
    "batch_size = 128\n",
    "display_step = 20"
   ]
  },
  {
   "cell_type": "code",
   "execution_count": 5,
   "metadata": {
    "collapsed": true
   },
   "outputs": [],
   "source": [
    "# Parámetros de la red, en este caso con una sola capa\n",
    "n_input = 784 # MNIST data input (img shape: 28*28)\n",
    "n_classes = 10 # MNIST total classes (0-9 digits)\n",
    "dropout = 0.75 # Dropout, probability to keep units"
   ]
  },
  {
   "cell_type": "code",
   "execution_count": 6,
   "metadata": {
    "collapsed": true
   },
   "outputs": [],
   "source": [
    "# Definimos los tipos de variable\n",
    "x = tf.placeholder(tf.float32, [None, n_input])\n",
    "y = tf.placeholder(tf.float32, [None, n_classes])\n",
    "keep_prob = tf.placeholder(tf.float32) #dropout (keep probability)"
   ]
  },
  {
   "cell_type": "code",
   "execution_count": 7,
   "metadata": {
    "collapsed": true
   },
   "outputs": [],
   "source": [
    "# Creacamos el modelo las funciones que lo definen, definimos las capas de convolución, \n",
    "#de agregación y la configuración relacionada.\n",
    "\n",
    "# Capa convolucional\n",
    "def conv2d(img, w, b):\n",
    "    return tf.nn.relu(tf.nn.bias_add(tf.nn.conv2d(img, w, strides=[1, 1, 1, 1], \n",
    "                                                  padding='SAME'),b))\n",
    "# Capa de agregación\n",
    "def max_pool(img, k):\n",
    "    return tf.nn.max_pool(img, ksize=[1, k, k, 1], strides=[1, k, k, 1], padding='SAME')\n",
    "\n",
    "# Configuración de la red\n",
    "def conv_net(_X, _weights, _biases, _dropout):\n",
    "    # Reshape input picture\n",
    "    _X = tf.reshape(_X, shape=[-1, 28, 28, 1])\n",
    "\n",
    "    # Capa convolucional con unos pesos\n",
    "    conv1 = conv2d(_X, _weights['wc1'], _biases['bc1'])\n",
    "    # Capa de Max Pooling (down-sampling)\n",
    "    conv1 = max_pool(conv1, k=2)\n",
    "    # Apply Dropout supresión de salidas de la capa anterior\n",
    "    conv1 = tf.nn.dropout(conv1, _dropout)\n",
    "\n",
    "    # Repetimos el proceso anterior de nuevo.\n",
    "    # Convolution Layer\n",
    "    conv2 = conv2d(conv1, _weights['wc2'], _biases['bc2'])\n",
    "    # Max Pooling (down-sampling)\n",
    "    conv2 = max_pool(conv2, k=2)\n",
    "    # Apply Dropout\n",
    "    conv2 = tf.nn.dropout(conv2, _dropout)\n",
    "\n",
    "    # Capa completamente conectada con la capa anterior, es la capa final antes de la predicción\n",
    "    # Reshape conv2 output to fit dense layer input\n",
    "    dense1 = tf.reshape(conv2, [-1, _weights['wd1'].get_shape().as_list()[0]]) \n",
    "    # De nuevo con la función Relu de activación\n",
    "    dense1 = tf.nn.relu(tf.add(tf.matmul(dense1, _weights['wd1']), _biases['bd1']))\n",
    "    # Apply Dropout\n",
    "    dense1 = tf.nn.dropout(dense1, _dropout) # Apply Dropout\n",
    "\n",
    "    # Capa de predicción de la clase\n",
    "    out = tf.add(tf.matmul(dense1, _weights['out']), _biases['out'])\n",
    "    return out"
   ]
  },
  {
   "cell_type": "code",
   "execution_count": 8,
   "metadata": {
    "collapsed": true
   },
   "outputs": [],
   "source": [
    "# Reservamos espacio para las variables, vemos que en este caso tenemos una configuración \n",
    "# diferente de pesos, por las características propias de las capas convolucionales y de sampling.\n",
    "weights = {\n",
    "    # 5x5 conv, 1 input, 32 outputs\n",
    "    'wc1': tf.Variable(tf.random_normal([5, 5, 1, 32])), \n",
    "    # 5x5 conv, 32 inputs, 64 outputs\n",
    "    'wc2': tf.Variable(tf.random_normal([5, 5, 32, 64])), \n",
    "    # fully connected, 7*7*64 inputs, 1024 outputs\n",
    "    'wd1': tf.Variable(tf.random_normal([7*7*64, 1024])), \n",
    "    # 1024 inputs, 10 outputs (class prediction)\n",
    "    'out': tf.Variable(tf.random_normal([1024, n_classes])) \n",
    "}\n",
    "\n",
    "biases = {\n",
    "    'bc1': tf.Variable(tf.random_normal([32])),\n",
    "    'bc2': tf.Variable(tf.random_normal([64])),\n",
    "    'bd1': tf.Variable(tf.random_normal([1024])),\n",
    "    'out': tf.Variable(tf.random_normal([n_classes]))\n",
    "}"
   ]
  },
  {
   "cell_type": "code",
   "execution_count": 9,
   "metadata": {
    "collapsed": true
   },
   "outputs": [],
   "source": [
    "# Construimos el modelo utilizando la función que define la interacción entre capas.\n",
    "pred = conv_net(x, weights, biases, keep_prob)"
   ]
  },
  {
   "cell_type": "code",
   "execution_count": 10,
   "metadata": {
    "collapsed": true
   },
   "outputs": [],
   "source": [
    "# La funcion de coste es la estimación de la perdida de entropia calculada en cada predicción.\n",
    "cost = tf.reduce_mean(tf.nn.softmax_cross_entropy_with_logits(pred, y))\n",
    "optimizer = tf.train.AdamOptimizer(learning_rate=learning_rate).minimize(cost)"
   ]
  },
  {
   "cell_type": "code",
   "execution_count": 11,
   "metadata": {
    "collapsed": true
   },
   "outputs": [],
   "source": [
    "# Evaluamos el modelo comparando el valor real con la solución\n",
    "correct_pred = tf.equal(tf.argmax(pred,1), tf.argmax(y,1))\n",
    "accuracy = tf.reduce_mean(tf.cast(correct_pred, tf.float32))"
   ]
  },
  {
   "cell_type": "code",
   "execution_count": 12,
   "metadata": {
    "collapsed": true
   },
   "outputs": [],
   "source": [
    "# Inicializamos las variables, una vez hemos construido el grafo\n",
    "init = tf.initialize_all_variables()"
   ]
  },
  {
   "cell_type": "code",
   "execution_count": 13,
   "metadata": {
    "collapsed": false
   },
   "outputs": [
    {
     "name": "stdout",
     "output_type": "stream",
     "text": [
      "Iter 2560, Minibatch Loss= 22247.429688, Training Accuracy= 0.27344\n",
      "Iter 5120, Minibatch Loss= 9276.361328, Training Accuracy= 0.54688\n",
      "Iter 7680, Minibatch Loss= 12762.419922, Training Accuracy= 0.59375\n",
      "Iter 10240, Minibatch Loss= 5497.883789, Training Accuracy= 0.73438\n",
      "Iter 12800, Minibatch Loss= 5642.581543, Training Accuracy= 0.73438\n",
      "Iter 15360, Minibatch Loss= 2443.253662, Training Accuracy= 0.81250\n",
      "Iter 17920, Minibatch Loss= 2811.618652, Training Accuracy= 0.77344\n",
      "Iter 20480, Minibatch Loss= 1594.819580, Training Accuracy= 0.80469\n",
      "Iter 23040, Minibatch Loss= 2199.979736, Training Accuracy= 0.89062\n",
      "Iter 25600, Minibatch Loss= 2484.760742, Training Accuracy= 0.82031\n",
      "Iter 28160, Minibatch Loss= 2884.517578, Training Accuracy= 0.82812\n",
      "Iter 30720, Minibatch Loss= 1801.751587, Training Accuracy= 0.85938\n",
      "Iter 33280, Minibatch Loss= 2044.893555, Training Accuracy= 0.86719\n",
      "Iter 35840, Minibatch Loss= 535.360840, Training Accuracy= 0.93750\n",
      "Iter 38400, Minibatch Loss= 107.665466, Training Accuracy= 0.98438\n",
      "Iter 40960, Minibatch Loss= 2230.840088, Training Accuracy= 0.85938\n",
      "Iter 43520, Minibatch Loss= 849.661987, Training Accuracy= 0.94531\n",
      "Iter 46080, Minibatch Loss= 578.233704, Training Accuracy= 0.94531\n",
      "Iter 48640, Minibatch Loss= 2083.269287, Training Accuracy= 0.86719\n",
      "Iter 51200, Minibatch Loss= 467.366913, Training Accuracy= 0.93750\n",
      "Iter 53760, Minibatch Loss= 424.012482, Training Accuracy= 0.94531\n",
      "Iter 56320, Minibatch Loss= 1395.008057, Training Accuracy= 0.85156\n",
      "Iter 58880, Minibatch Loss= 546.392822, Training Accuracy= 0.93750\n",
      "Iter 61440, Minibatch Loss= 1493.559448, Training Accuracy= 0.85938\n",
      "Iter 64000, Minibatch Loss= 1271.450073, Training Accuracy= 0.89062\n",
      "Iter 66560, Minibatch Loss= 1272.258789, Training Accuracy= 0.89062\n",
      "Iter 69120, Minibatch Loss= 818.030029, Training Accuracy= 0.91406\n",
      "Iter 71680, Minibatch Loss= 713.866211, Training Accuracy= 0.89844\n",
      "Iter 74240, Minibatch Loss= 783.492065, Training Accuracy= 0.89844\n",
      "Iter 76800, Minibatch Loss= 924.822632, Training Accuracy= 0.86719\n",
      "Iter 79360, Minibatch Loss= 648.336792, Training Accuracy= 0.90625\n",
      "Iter 81920, Minibatch Loss= 930.839844, Training Accuracy= 0.90625\n",
      "Iter 84480, Minibatch Loss= 764.837280, Training Accuracy= 0.90625\n",
      "Iter 87040, Minibatch Loss= 464.192322, Training Accuracy= 0.88281\n",
      "Iter 89600, Minibatch Loss= 819.113831, Training Accuracy= 0.89844\n",
      "Iter 92160, Minibatch Loss= 827.399170, Training Accuracy= 0.88281\n",
      "Iter 94720, Minibatch Loss= 326.993958, Training Accuracy= 0.92188\n",
      "Iter 97280, Minibatch Loss= 827.834412, Training Accuracy= 0.90625\n",
      "Iter 99840, Minibatch Loss= 620.459229, Training Accuracy= 0.91406\n",
      "Optimization Finished!\n",
      "Testing Accuracy: 0.941406\n"
     ]
    }
   ],
   "source": [
    "# Corremos el grafo\n",
    "with tf.Session() as sess:\n",
    "    sess.run(init)\n",
    "    step = 1\n",
    "    # Estapa de entrenamiento en función del limite iteracional\n",
    "    while step * batch_size < training_iters:\n",
    "        batch_xs, batch_ys = mnist.train.next_batch(batch_size)\n",
    "        # Realizamos un proceso de segmentación de datos para realizar el entrenamiento por batchs.\n",
    "        sess.run(optimizer, feed_dict={x: batch_xs, y: batch_ys, keep_prob: dropout})\n",
    "        if step % display_step == 0:\n",
    "            # Calculamos el ajuste por cada muestra utilizada\n",
    "            acc = sess.run(accuracy, feed_dict={x: batch_xs, y: batch_ys, keep_prob: 1.})\n",
    "            # Calculamos la perdida al realizar la predicción sobre cada muestra\n",
    "            loss = sess.run(cost, feed_dict={x: batch_xs, y: batch_ys, keep_prob: 1.})\n",
    "            print \"Iter \" + str(step*batch_size) + \", Minibatch Loss= \" + \\\n",
    "                  \"{:.6f}\".format(loss) + \", Training Accuracy= \" + \"{:.5f}\".format(acc)\n",
    "        step += 1\n",
    "    print \"Optimization Finished!\"\n",
    "    # Calculate accuracy for 256 mnist test images\n",
    "    print \"Testing Accuracy:\", sess.run(accuracy, feed_dict={x: mnist.test.images[:256], \n",
    "                                                             y: mnist.test.labels[:256], \n",
    "                                                             keep_prob: 1.})"
   ]
  },
  {
   "cell_type": "code",
   "execution_count": null,
   "metadata": {
    "collapsed": true
   },
   "outputs": [],
   "source": []
  }
 ],
 "metadata": {
  "kernelspec": {
   "display_name": "Python 2",
   "language": "python",
   "name": "python2"
  },
  "language_info": {
   "codemirror_mode": {
    "name": "ipython",
    "version": 2
   },
   "file_extension": ".py",
   "mimetype": "text/x-python",
   "name": "python",
   "nbconvert_exporter": "python",
   "pygments_lexer": "ipython2",
   "version": "2.7.6"
  }
 },
 "nbformat": 4,
 "nbformat_minor": 0
}
