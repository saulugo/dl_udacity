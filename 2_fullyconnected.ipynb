{
 "cells": [
  {
   "cell_type": "markdown",
   "metadata": {
    "colab_type": "text",
    "id": "kR-4eNdK6lYS"
   },
   "source": [
    "Deep Learning - Prueba Saul\n",
    "=============\n",
    "\n",
    "Assignment 2\n",
    "------------\n",
    "\n",
    "Previously in `1_notmnist.ipynb`, we created a pickle with formatted datasets for training, development and testing on the [notMNIST dataset](http://yaroslavvb.blogspot.com/2011/09/notmnist-dataset.html).\n",
    "\n",
    "The goal of this assignment is to progressively train deeper and more accurate models using TensorFlow."
   ]
  },
  {
   "cell_type": "code",
   "execution_count": 1,
   "metadata": {
    "cellView": "both",
    "colab": {
     "autoexec": {
      "startup": false,
      "wait_interval": 0
     }
    },
    "colab_type": "code",
    "collapsed": true,
    "id": "JLpLa8Jt7Vu4"
   },
   "outputs": [],
   "source": [
    "# These are all the modules we'll be using later. Make sure you can import them\n",
    "# before proceeding further.\n",
    "from __future__ import print_function\n",
    "import numpy as np\n",
    "import tensorflow as tf\n",
    "from six.moves import cPickle as pickle\n",
    "from six.moves import range"
   ]
  },
  {
   "cell_type": "code",
   "execution_count": null,
   "metadata": {
    "collapsed": true
   },
   "outputs": [],
   "source": [
    "tf.add()"
   ]
  },
  {
   "cell_type": "markdown",
   "metadata": {
    "colab_type": "text",
    "id": "1HrCK6e17WzV"
   },
   "source": [
    "First reload the data we generated in `1_notmnist.ipynb`."
   ]
  },
  {
   "cell_type": "code",
   "execution_count": 10,
   "metadata": {
    "cellView": "both",
    "colab": {
     "autoexec": {
      "startup": false,
      "wait_interval": 0
     },
     "output_extras": [
      {
       "item_id": 1
      }
     ]
    },
    "colab_type": "code",
    "collapsed": false,
    "executionInfo": {
     "elapsed": 19456,
     "status": "ok",
     "timestamp": 1449847956073,
     "user": {
      "color": "",
      "displayName": "",
      "isAnonymous": false,
      "isMe": true,
      "permissionId": "",
      "photoUrl": "",
      "sessionId": "0",
      "userId": ""
     },
     "user_tz": 480
    },
    "id": "y3-cj1bpmuxc",
    "outputId": "0ddb1607-1fc4-4ddb-de28-6c7ab7fb0c33"
   },
   "outputs": [
    {
     "name": "stdout",
     "output_type": "stream",
     "text": [
      "Training set (100000, 28, 28) (100000,)\n",
      "Validation set (5000, 28, 28) (5000,)\n",
      "Test set (5000, 28, 28) (5000,)\n"
     ]
    }
   ],
   "source": [
    "pickle_file = 'notMNIST.pickle'\n",
    "\n",
    "with open(pickle_file, 'rb') as f:\n",
    "  save = pickle.load(f)\n",
    "  train_dataset = save['train_dataset']\n",
    "  train_labels = save['train_labels']\n",
    "  valid_dataset = save['valid_dataset']\n",
    "  valid_labels = save['valid_labels']\n",
    "  test_dataset = save['test_dataset']\n",
    "  test_labels = save['test_labels']\n",
    "  del save  # hint to help gc free up memory\n",
    "  print('Training set', train_dataset.shape, train_labels.shape)\n",
    "  print('Validation set', valid_dataset.shape, valid_labels.shape)\n",
    "  print('Test set', test_dataset.shape, test_labels.shape)"
   ]
  },
  {
   "cell_type": "markdown",
   "metadata": {
    "colab_type": "text",
    "id": "L7aHrm6nGDMB"
   },
   "source": [
    "Reformat into a shape that's more adapted to the models we're going to train:\n",
    "- data as a flat matrix,\n",
    "- labels as float 1-hot encodings."
   ]
  },
  {
   "cell_type": "code",
   "execution_count": 11,
   "metadata": {
    "cellView": "both",
    "colab": {
     "autoexec": {
      "startup": false,
      "wait_interval": 0
     },
     "output_extras": [
      {
       "item_id": 1
      }
     ]
    },
    "colab_type": "code",
    "collapsed": false,
    "executionInfo": {
     "elapsed": 19723,
     "status": "ok",
     "timestamp": 1449847956364,
     "user": {
      "color": "",
      "displayName": "",
      "isAnonymous": false,
      "isMe": true,
      "permissionId": "",
      "photoUrl": "",
      "sessionId": "0",
      "userId": ""
     },
     "user_tz": 480
    },
    "id": "IRSyYiIIGIzS",
    "outputId": "2ba0fc75-1487-4ace-a562-cf81cae82793"
   },
   "outputs": [
    {
     "name": "stdout",
     "output_type": "stream",
     "text": [
      "Training set (100000, 784) (100000, 10)\n",
      "Validation set (5000, 784) (5000, 10)\n",
      "Test set (5000, 784) (5000, 10)\n"
     ]
    }
   ],
   "source": [
    "image_size = 28\n",
    "num_labels = 10\n",
    "\n",
    "def reformat(dataset, labels):\n",
    "  dataset = dataset.reshape((-1, image_size * image_size)).astype(np.float32)\n",
    "  # Map 0 to [1.0, 0.0, 0.0 ...], 1 to [0.0, 1.0, 0.0 ...]\n",
    "  labels = (np.arange(num_labels) == labels[:,None]).astype(np.float32)\n",
    "  return dataset, labels\n",
    "train_dataset, train_labels = reformat(train_dataset, train_labels)\n",
    "valid_dataset, valid_labels = reformat(valid_dataset, valid_labels)\n",
    "test_dataset, test_labels = reformat(test_dataset, test_labels)\n",
    "print('Training set', train_dataset.shape, train_labels.shape)\n",
    "print('Validation set', valid_dataset.shape, valid_labels.shape)\n",
    "print('Test set', test_dataset.shape, test_labels.shape)"
   ]
  },
  {
   "cell_type": "markdown",
   "metadata": {
    "colab_type": "text",
    "id": "nCLVqyQ5vPPH"
   },
   "source": [
    "We're first going to train a multinomial logistic regression using simple gradient descent.\n",
    "\n",
    "TensorFlow works like this:\n",
    "* First you describe the computation that you want to see performed: what the inputs, the variables, and the operations look like. These get created as nodes over a computation graph. This description is all contained within the block below:\n",
    "\n",
    "      with graph.as_default():\n",
    "          ...\n",
    "\n",
    "* Then you can run the operations on this graph as many times as you want by calling `session.run()`, providing it outputs to fetch from the graph that get returned. This runtime operation is all contained in the block below:\n",
    "\n",
    "      with tf.Session(graph=graph) as session:\n",
    "          ...\n",
    "\n",
    "Let's load all the data into TensorFlow and build the computation graph corresponding to our training:"
   ]
  },
  {
   "cell_type": "code",
   "execution_count": 12,
   "metadata": {
    "cellView": "both",
    "colab": {
     "autoexec": {
      "startup": false,
      "wait_interval": 0
     }
    },
    "colab_type": "code",
    "collapsed": true,
    "id": "Nfv39qvtvOl_"
   },
   "outputs": [],
   "source": [
    "# With gradient descent training, even this much data is prohibitive.\n",
    "# Subset the training data for faster turnaround.\n",
    "train_subset = 10000\n",
    "\n",
    "graph = tf.Graph()\n",
    "with graph.as_default():\n",
    "\n",
    "  # Input data.\n",
    "  # Load the training, validation and test data into constants that are\n",
    "  # attached to the graph.\n",
    "  tf_train_dataset = tf.constant(train_dataset[:train_subset, :])\n",
    "  tf_train_labels = tf.constant(train_labels[:train_subset])\n",
    "  tf_valid_dataset = tf.constant(valid_dataset)\n",
    "  tf_test_dataset = tf.constant(test_dataset)\n",
    "  \n",
    "  # Variables.\n",
    "  # These are the parameters that we are going to be training. The weight\n",
    "  # matrix will be initialized using random values following a (truncated)\n",
    "  # normal distribution. The biases get initialized to zero.\n",
    "  weights = tf.Variable(\n",
    "    tf.truncated_normal([image_size * image_size, num_labels]))\n",
    "  biases = tf.Variable(tf.zeros([num_labels]))\n",
    "  \n",
    "  # Training computation.\n",
    "  # We multiply the inputs with the weight matrix, and add biases. We compute\n",
    "  # the softmax and cross-entropy (it's one operation in TensorFlow, because\n",
    "  # it's very common, and it can be optimized). We take the average of this\n",
    "  # cross-entropy across all training examples: that's our loss.\n",
    "  logits = tf.matmul(tf_train_dataset, weights) + biases\n",
    "  loss = tf.reduce_mean(\n",
    "    tf.nn.softmax_cross_entropy_with_logits(logits, tf_train_labels))\n",
    "  \n",
    "  # Optimizer.\n",
    "  # We are going to find the minimum of this loss using gradient descent.\n",
    "  optimizer = tf.train.GradientDescentOptimizer(0.5).minimize(loss)\n",
    "  \n",
    "  # Predictions for the training, validation, and test data.\n",
    "  # These are not part of training, but merely here so that we can report\n",
    "  # accuracy figures as we train.\n",
    "  train_prediction = tf.nn.softmax(logits)\n",
    "  valid_prediction = tf.nn.softmax(\n",
    "    tf.matmul(tf_valid_dataset, weights) + biases)\n",
    "  test_prediction = tf.nn.softmax(tf.matmul(tf_test_dataset, weights) + biases)"
   ]
  },
  {
   "cell_type": "markdown",
   "metadata": {
    "colab_type": "text",
    "id": "KQcL4uqISHjP"
   },
   "source": [
    "Let's run this computation and iterate:"
   ]
  },
  {
   "cell_type": "code",
   "execution_count": 13,
   "metadata": {
    "cellView": "both",
    "colab": {
     "autoexec": {
      "startup": false,
      "wait_interval": 0
     },
     "output_extras": [
      {
       "item_id": 9
      }
     ]
    },
    "colab_type": "code",
    "collapsed": false,
    "executionInfo": {
     "elapsed": 57454,
     "status": "ok",
     "timestamp": 1449847994134,
     "user": {
      "color": "",
      "displayName": "",
      "isAnonymous": false,
      "isMe": true,
      "permissionId": "",
      "photoUrl": "",
      "sessionId": "0",
      "userId": ""
     },
     "user_tz": 480
    },
    "id": "z2cjdenH869W",
    "outputId": "4c037ba1-b526-4d8e-e632-91e2a0333267"
   },
   "outputs": [
    {
     "name": "stdout",
     "output_type": "stream",
     "text": [
      "Initialized\n",
      "Loss at step 0: 18.421494\n",
      "Training accuracy: 12.8%\n",
      "Validation accuracy: 12.8%\n",
      "Loss at step 100: 0.437522\n",
      "Training accuracy: 95.7%\n",
      "Validation accuracy: 11.5%\n",
      "Loss at step 200: 0.243619\n",
      "Training accuracy: 97.1%\n",
      "Validation accuracy: 11.1%\n"
     ]
    },
    {
     "ename": "KeyboardInterrupt",
     "evalue": "",
     "output_type": "error",
     "traceback": [
      "\u001b[0;31m---------------------------------------------------------------------------\u001b[0m",
      "\u001b[0;31mKeyboardInterrupt\u001b[0m                         Traceback (most recent call last)",
      "\u001b[0;32m<ipython-input-13-7d13d750519f>\u001b[0m in \u001b[0;36m<module>\u001b[0;34m()\u001b[0m\n\u001b[1;32m     15\u001b[0m     \u001b[0;31m# and get the loss value and the training predictions returned as numpy\u001b[0m\u001b[0;34m\u001b[0m\u001b[0;34m\u001b[0m\u001b[0m\n\u001b[1;32m     16\u001b[0m     \u001b[0;31m# arrays.\u001b[0m\u001b[0;34m\u001b[0m\u001b[0;34m\u001b[0m\u001b[0m\n\u001b[0;32m---> 17\u001b[0;31m     \u001b[0m_\u001b[0m\u001b[0;34m,\u001b[0m \u001b[0ml\u001b[0m\u001b[0;34m,\u001b[0m \u001b[0mpredictions\u001b[0m \u001b[0;34m=\u001b[0m \u001b[0msession\u001b[0m\u001b[0;34m.\u001b[0m\u001b[0mrun\u001b[0m\u001b[0;34m(\u001b[0m\u001b[0;34m[\u001b[0m\u001b[0moptimizer\u001b[0m\u001b[0;34m,\u001b[0m \u001b[0mloss\u001b[0m\u001b[0;34m,\u001b[0m \u001b[0mtrain_prediction\u001b[0m\u001b[0;34m]\u001b[0m\u001b[0;34m)\u001b[0m\u001b[0;34m\u001b[0m\u001b[0m\n\u001b[0m\u001b[1;32m     18\u001b[0m     \u001b[0;32mif\u001b[0m \u001b[0;34m(\u001b[0m\u001b[0mstep\u001b[0m \u001b[0;34m%\u001b[0m \u001b[0;36m100\u001b[0m \u001b[0;34m==\u001b[0m \u001b[0;36m0\u001b[0m\u001b[0;34m)\u001b[0m\u001b[0;34m:\u001b[0m\u001b[0;34m\u001b[0m\u001b[0m\n\u001b[1;32m     19\u001b[0m       \u001b[0;32mprint\u001b[0m\u001b[0;34m(\u001b[0m\u001b[0;34m'Loss at step %d: %f'\u001b[0m \u001b[0;34m%\u001b[0m \u001b[0;34m(\u001b[0m\u001b[0mstep\u001b[0m\u001b[0;34m,\u001b[0m \u001b[0ml\u001b[0m\u001b[0;34m)\u001b[0m\u001b[0;34m)\u001b[0m\u001b[0;34m\u001b[0m\u001b[0m\n",
      "\u001b[0;32m/usr/local/lib/python2.7/dist-packages/tensorflow/python/client/session.pyc\u001b[0m in \u001b[0;36mrun\u001b[0;34m(self, fetches, feed_dict, options, run_metadata)\u001b[0m\n\u001b[1;32m    715\u001b[0m     \u001b[0;32mtry\u001b[0m\u001b[0;34m:\u001b[0m\u001b[0;34m\u001b[0m\u001b[0m\n\u001b[1;32m    716\u001b[0m       result = self._run(None, fetches, feed_dict, options_ptr,\n\u001b[0;32m--> 717\u001b[0;31m                          run_metadata_ptr)\n\u001b[0m\u001b[1;32m    718\u001b[0m       \u001b[0;32mif\u001b[0m \u001b[0mrun_metadata\u001b[0m\u001b[0;34m:\u001b[0m\u001b[0;34m\u001b[0m\u001b[0m\n\u001b[1;32m    719\u001b[0m         \u001b[0mproto_data\u001b[0m \u001b[0;34m=\u001b[0m \u001b[0mtf_session\u001b[0m\u001b[0;34m.\u001b[0m\u001b[0mTF_GetBuffer\u001b[0m\u001b[0;34m(\u001b[0m\u001b[0mrun_metadata_ptr\u001b[0m\u001b[0;34m)\u001b[0m\u001b[0;34m\u001b[0m\u001b[0m\n",
      "\u001b[0;32m/usr/local/lib/python2.7/dist-packages/tensorflow/python/client/session.pyc\u001b[0m in \u001b[0;36m_run\u001b[0;34m(self, handle, fetches, feed_dict, options, run_metadata)\u001b[0m\n\u001b[1;32m    913\u001b[0m     \u001b[0;32mif\u001b[0m \u001b[0mfinal_fetches\u001b[0m \u001b[0;32mor\u001b[0m \u001b[0mfinal_targets\u001b[0m\u001b[0;34m:\u001b[0m\u001b[0;34m\u001b[0m\u001b[0m\n\u001b[1;32m    914\u001b[0m       results = self._do_run(handle, final_targets, final_fetches,\n\u001b[0;32m--> 915\u001b[0;31m                              feed_dict_string, options, run_metadata)\n\u001b[0m\u001b[1;32m    916\u001b[0m     \u001b[0;32melse\u001b[0m\u001b[0;34m:\u001b[0m\u001b[0;34m\u001b[0m\u001b[0m\n\u001b[1;32m    917\u001b[0m       \u001b[0mresults\u001b[0m \u001b[0;34m=\u001b[0m \u001b[0;34m[\u001b[0m\u001b[0;34m]\u001b[0m\u001b[0;34m\u001b[0m\u001b[0m\n",
      "\u001b[0;32m/usr/local/lib/python2.7/dist-packages/tensorflow/python/client/session.pyc\u001b[0m in \u001b[0;36m_do_run\u001b[0;34m(self, handle, target_list, fetch_list, feed_dict, options, run_metadata)\u001b[0m\n\u001b[1;32m    963\u001b[0m     \u001b[0;32mif\u001b[0m \u001b[0mhandle\u001b[0m \u001b[0;32mis\u001b[0m \u001b[0mNone\u001b[0m\u001b[0;34m:\u001b[0m\u001b[0;34m\u001b[0m\u001b[0m\n\u001b[1;32m    964\u001b[0m       return self._do_call(_run_fn, self._session, feed_dict, fetch_list,\n\u001b[0;32m--> 965\u001b[0;31m                            target_list, options, run_metadata)\n\u001b[0m\u001b[1;32m    966\u001b[0m     \u001b[0;32melse\u001b[0m\u001b[0;34m:\u001b[0m\u001b[0;34m\u001b[0m\u001b[0m\n\u001b[1;32m    967\u001b[0m       return self._do_call(_prun_fn, self._session, handle, feed_dict,\n",
      "\u001b[0;32m/usr/local/lib/python2.7/dist-packages/tensorflow/python/client/session.pyc\u001b[0m in \u001b[0;36m_do_call\u001b[0;34m(self, fn, *args)\u001b[0m\n\u001b[1;32m    970\u001b[0m   \u001b[0;32mdef\u001b[0m \u001b[0m_do_call\u001b[0m\u001b[0;34m(\u001b[0m\u001b[0mself\u001b[0m\u001b[0;34m,\u001b[0m \u001b[0mfn\u001b[0m\u001b[0;34m,\u001b[0m \u001b[0;34m*\u001b[0m\u001b[0margs\u001b[0m\u001b[0;34m)\u001b[0m\u001b[0;34m:\u001b[0m\u001b[0;34m\u001b[0m\u001b[0m\n\u001b[1;32m    971\u001b[0m     \u001b[0;32mtry\u001b[0m\u001b[0;34m:\u001b[0m\u001b[0;34m\u001b[0m\u001b[0m\n\u001b[0;32m--> 972\u001b[0;31m       \u001b[0;32mreturn\u001b[0m \u001b[0mfn\u001b[0m\u001b[0;34m(\u001b[0m\u001b[0;34m*\u001b[0m\u001b[0margs\u001b[0m\u001b[0;34m)\u001b[0m\u001b[0;34m\u001b[0m\u001b[0m\n\u001b[0m\u001b[1;32m    973\u001b[0m     \u001b[0;32mexcept\u001b[0m \u001b[0merrors\u001b[0m\u001b[0;34m.\u001b[0m\u001b[0mOpError\u001b[0m \u001b[0;32mas\u001b[0m \u001b[0me\u001b[0m\u001b[0;34m:\u001b[0m\u001b[0;34m\u001b[0m\u001b[0m\n\u001b[1;32m    974\u001b[0m       \u001b[0mmessage\u001b[0m \u001b[0;34m=\u001b[0m \u001b[0mcompat\u001b[0m\u001b[0;34m.\u001b[0m\u001b[0mas_text\u001b[0m\u001b[0;34m(\u001b[0m\u001b[0me\u001b[0m\u001b[0;34m.\u001b[0m\u001b[0mmessage\u001b[0m\u001b[0;34m)\u001b[0m\u001b[0;34m\u001b[0m\u001b[0m\n",
      "\u001b[0;32m/usr/local/lib/python2.7/dist-packages/tensorflow/python/client/session.pyc\u001b[0m in \u001b[0;36m_run_fn\u001b[0;34m(session, feed_dict, fetch_list, target_list, options, run_metadata)\u001b[0m\n\u001b[1;32m    952\u001b[0m         return tf_session.TF_Run(session, options,\n\u001b[1;32m    953\u001b[0m                                  \u001b[0mfeed_dict\u001b[0m\u001b[0;34m,\u001b[0m \u001b[0mfetch_list\u001b[0m\u001b[0;34m,\u001b[0m \u001b[0mtarget_list\u001b[0m\u001b[0;34m,\u001b[0m\u001b[0;34m\u001b[0m\u001b[0m\n\u001b[0;32m--> 954\u001b[0;31m                                  status, run_metadata)\n\u001b[0m\u001b[1;32m    955\u001b[0m \u001b[0;34m\u001b[0m\u001b[0m\n\u001b[1;32m    956\u001b[0m     \u001b[0;32mdef\u001b[0m \u001b[0m_prun_fn\u001b[0m\u001b[0;34m(\u001b[0m\u001b[0msession\u001b[0m\u001b[0;34m,\u001b[0m \u001b[0mhandle\u001b[0m\u001b[0;34m,\u001b[0m \u001b[0mfeed_dict\u001b[0m\u001b[0;34m,\u001b[0m \u001b[0mfetch_list\u001b[0m\u001b[0;34m)\u001b[0m\u001b[0;34m:\u001b[0m\u001b[0;34m\u001b[0m\u001b[0m\n",
      "\u001b[0;31mKeyboardInterrupt\u001b[0m: "
     ]
    }
   ],
   "source": [
    "num_steps = 801\n",
    "\n",
    "def accuracy(predictions, labels):\n",
    "  return (100.0 * np.sum(np.argmax(predictions, 1) == np.argmax(labels, 1))\n",
    "          / predictions.shape[0])\n",
    "\n",
    "with tf.Session(graph=graph) as session:\n",
    "  # This is a one-time operation which ensures the parameters get initialized as\n",
    "  # we described in the graph: random weights for the matrix, zeros for the\n",
    "  # biases. \n",
    "  tf.initialize_all_variables().run()\n",
    "  print('Initialized')\n",
    "  for step in range(num_steps):\n",
    "    # Run the computations. We tell .run() that we want to run the optimizer,\n",
    "    # and get the loss value and the training predictions returned as numpy\n",
    "    # arrays.\n",
    "    _, l, predictions = session.run([optimizer, loss, train_prediction])\n",
    "    if (step % 100 == 0):\n",
    "      print('Loss at step %d: %f' % (step, l))\n",
    "      print('Training accuracy: %.1f%%' % accuracy(\n",
    "        predictions, train_labels[:train_subset, :]))\n",
    "      # Calling .eval() on valid_prediction is basically like calling run(), but\n",
    "      # just to get that one numpy array. Note that it recomputes all its graph\n",
    "      # dependencies.\n",
    "      print('Validation accuracy: %.1f%%' % accuracy(\n",
    "        valid_prediction.eval(), valid_labels))\n",
    "  print('Test accuracy: %.1f%%' % accuracy(test_prediction.eval(), test_labels))"
   ]
  },
  {
   "cell_type": "markdown",
   "metadata": {
    "colab_type": "text",
    "id": "x68f-hxRGm3H"
   },
   "source": [
    "Let's now switch to stochastic gradient descent training instead, which is much faster.\n",
    "\n",
    "The graph will be similar, except that instead of holding all the training data into a constant node, we create a `Placeholder` node which will be fed actual data at every call of `session.run()`."
   ]
  },
  {
   "cell_type": "code",
   "execution_count": 14,
   "metadata": {
    "cellView": "both",
    "colab": {
     "autoexec": {
      "startup": false,
      "wait_interval": 0
     }
    },
    "colab_type": "code",
    "collapsed": true,
    "id": "qhPMzWYRGrzM"
   },
   "outputs": [],
   "source": [
    "batch_size = 128\n",
    "\n",
    "graph = tf.Graph()\n",
    "with graph.as_default():\n",
    "\n",
    "  # Input data. For the training data, we use a placeholder that will be fed\n",
    "  # at run time with a training minibatch.\n",
    "  tf_train_dataset = tf.placeholder(tf.float32,\n",
    "                                    shape=(batch_size, image_size * image_size))\n",
    "  tf_train_labels = tf.placeholder(tf.float32, shape=(batch_size, num_labels))\n",
    "  tf_valid_dataset = tf.constant(valid_dataset)\n",
    "  tf_test_dataset = tf.constant(test_dataset)\n",
    "  \n",
    "  # Variables.\n",
    "  weights = tf.Variable(\n",
    "    tf.truncated_normal([image_size * image_size, num_labels]))\n",
    "  biases = tf.Variable(tf.zeros([num_labels]))\n",
    "  \n",
    "  # Training computation.\n",
    "  logits = tf.matmul(tf_train_dataset, weights) + biases\n",
    "  loss = tf.reduce_mean(\n",
    "    tf.nn.softmax_cross_entropy_with_logits(logits, tf_train_labels))\n",
    "  \n",
    "  # Optimizer.\n",
    "  optimizer = tf.train.GradientDescentOptimizer(0.5).minimize(loss)\n",
    "  \n",
    "  # Predictions for the training, validation, and test data.\n",
    "  train_prediction = tf.nn.softmax(logits)\n",
    "  valid_prediction = tf.nn.softmax(\n",
    "    tf.matmul(tf_valid_dataset, weights) + biases)\n",
    "  test_prediction = tf.nn.softmax(tf.matmul(tf_test_dataset, weights) + biases)"
   ]
  },
  {
   "cell_type": "markdown",
   "metadata": {
    "colab_type": "text",
    "id": "XmVZESmtG4JH"
   },
   "source": [
    "Let's run it:"
   ]
  },
  {
   "cell_type": "code",
   "execution_count": 15,
   "metadata": {
    "cellView": "both",
    "colab": {
     "autoexec": {
      "startup": false,
      "wait_interval": 0
     },
     "output_extras": [
      {
       "item_id": 6
      }
     ]
    },
    "colab_type": "code",
    "collapsed": false,
    "executionInfo": {
     "elapsed": 66292,
     "status": "ok",
     "timestamp": 1449848003013,
     "user": {
      "color": "",
      "displayName": "",
      "isAnonymous": false,
      "isMe": true,
      "permissionId": "",
      "photoUrl": "",
      "sessionId": "0",
      "userId": ""
     },
     "user_tz": 480
    },
    "id": "FoF91pknG_YW",
    "outputId": "d255c80e-954d-4183-ca1c-c7333ce91d0a"
   },
   "outputs": [
    {
     "name": "stdout",
     "output_type": "stream",
     "text": [
      "Initialized\n",
      "Minibatch loss at step 0: 14.429139\n",
      "Minibatch accuracy: 12.5%\n",
      "Validation accuracy: 15.9%\n",
      "Minibatch loss at step 500: 1.240521\n",
      "Minibatch accuracy: 88.3%\n",
      "Validation accuracy: 21.8%\n",
      "Minibatch loss at step 1000: 0.071556\n",
      "Minibatch accuracy: 97.7%\n",
      "Validation accuracy: 27.1%\n",
      "Minibatch loss at step 1500: 0.424953\n",
      "Minibatch accuracy: 94.5%\n",
      "Validation accuracy: 28.8%\n",
      "Minibatch loss at step 2000: 0.572591\n",
      "Minibatch accuracy: 97.7%\n",
      "Validation accuracy: 23.6%\n",
      "Minibatch loss at step 2500: 0.620691\n",
      "Minibatch accuracy: 95.3%\n",
      "Validation accuracy: 25.6%\n",
      "Minibatch loss at step 3000: 0.209356\n",
      "Minibatch accuracy: 95.3%\n",
      "Validation accuracy: 28.7%\n",
      "Test accuracy: 31.5%\n"
     ]
    }
   ],
   "source": [
    "num_steps = 3001\n",
    "\n",
    "with tf.Session(graph=graph) as session:\n",
    "  tf.initialize_all_variables().run()\n",
    "  print(\"Initialized\")\n",
    "  for step in range(num_steps):\n",
    "    # Pick an offset within the training data, which has been randomized.\n",
    "    # Note: we could use better randomization across epochs.\n",
    "    offset = (step * batch_size) % (train_labels.shape[0] - batch_size)\n",
    "    # Generate a minibatch.\n",
    "    batch_data = train_dataset[offset:(offset + batch_size), :]\n",
    "    batch_labels = train_labels[offset:(offset + batch_size), :]\n",
    "    # Prepare a dictionary telling the session where to feed the minibatch.\n",
    "    # The key of the dictionary is the placeholder node of the graph to be fed,\n",
    "    # and the value is the numpy array to feed to it.\n",
    "    feed_dict = {tf_train_dataset : batch_data, tf_train_labels : batch_labels}\n",
    "    _, l, predictions = session.run(\n",
    "      [optimizer, loss, train_prediction], feed_dict=feed_dict)\n",
    "    if (step % 500 == 0):\n",
    "      print(\"Minibatch loss at step %d: %f\" % (step, l))\n",
    "      print(\"Minibatch accuracy: %.1f%%\" % accuracy(predictions, batch_labels))\n",
    "      print(\"Validation accuracy: %.1f%%\" % accuracy(\n",
    "        valid_prediction.eval(), valid_labels))\n",
    "  print(\"Test accuracy: %.1f%%\" % accuracy(test_prediction.eval(), test_labels))"
   ]
  },
  {
   "cell_type": "markdown",
   "metadata": {
    "colab_type": "text",
    "id": "7omWxtvLLxik"
   },
   "source": [
    "---\n",
    "Problem\n",
    "-------\n",
    "\n",
    "Turn the logistic regression example with SGD into a 1-hidden layer neural network with rectified linear units [nn.relu()](https://www.tensorflow.org/versions/r0.7/api_docs/python/nn.html#relu) and 1024 hidden nodes. This model should improve your validation / test accuracy.\n",
    "\n",
    "---"
   ]
  },
  {
   "cell_type": "code",
   "execution_count": 35,
   "metadata": {
    "collapsed": true
   },
   "outputs": [],
   "source": [
    "#First lets define a fucntion to represent the topology of our Neuronal Network:\n",
    "#Topology: Multilayer Perceptron, 1 hidden layer with 1024 neurons and RELU activation function.\n",
    "\n",
    "def mlp(x, weights, biases):\n",
    "    '''\n",
    "    x: tf array with the training examples\n",
    "    weights: dictionary with the tensors containing the weights for each layer\n",
    "    biases: dictionary with the tensors containing the biases for each layer\n",
    "    '''\n",
    "    #h1 layer z = XW + b\n",
    "    h1_layer = tf.add(tf.matmul(x,weights['h1']), biases['b1'])\n",
    "    #h1 layer activation function relu(z)\n",
    "    h1_layer = tf.nn.relu(h1_layer)\n",
    "    #output layer (no activation needed after output layer)\n",
    "    out_layer = tf.add(tf.matmul(h1_layer,weights['out']), biases['out'])\n",
    "    \n",
    "    #we return the values predicted by the network in the output layer\n",
    "    return out_layer"
   ]
  },
  {
   "cell_type": "markdown",
   "metadata": {},
   "source": [
    "# Test 0\n",
    "\n",
    "batch_size = 128\n",
    "training_epochs = 3001\n",
    "learning_rate = 0.5\n",
    "display_step = 500\n",
    "n_hidden_1 = 1024\n",
    "\n",
    "Graph Variables Initialized!\n",
    "Minibatch loss at step 0: 263.086303711\n",
    "Minibatch accuracy: 15.625\n",
    "Validation accuracy: 10.0\n",
    "Minibatch loss at step 500: 0.0\n",
    "Minibatch accuracy: 100.0\n",
    "Validation accuracy: 19.38\n",
    "Minibatch loss at step 1000: 0.0\n",
    "Minibatch accuracy: 100.0\n",
    "Validation accuracy: 19.94\n",
    "Minibatch loss at step 1500: 0.115932941437\n",
    "Minibatch accuracy: 98.4375\n",
    "Validation accuracy: 21.96\n",
    "Minibatch loss at step 2000: 0.0125381769612\n",
    "Minibatch accuracy: 99.21875\n",
    "Validation accuracy: 27.06\n",
    "Minibatch loss at step 2500: 8.1004447937\n",
    "Minibatch accuracy: 91.40625\n",
    "Validation accuracy: 32.54\n",
    "Minibatch loss at step 3000: 0.155385047197\n",
    "Minibatch accuracy: 97.65625\n",
    "Validation accuracy: 29.34\n",
    "Test accuracy: 33.46\n",
    "\n",
    "\n",
    "\n",
    "# Test 1\n",
    "\n",
    "batch_size = 128\n",
    "training_epochs = 3001\n",
    "learning_rate = 0.001\n",
    "display_step = 100\n",
    "n_hidden_1 = 1024\n",
    "\n",
    "Graph Variables Initialized!\n",
    "Minibatch loss at step 0: 378.677947998\n",
    "Minibatch accuracy: 2.34375\n",
    "Validation accuracy: 9.3\n",
    "Minibatch loss at step 500: 30.2137889862\n",
    "Minibatch accuracy: 84.375\n",
    "Validation accuracy: 18.84\n",
    "Minibatch loss at step 1000: 3.44970607758\n",
    "Minibatch accuracy: 97.65625\n",
    "Validation accuracy: 25.44\n",
    "Minibatch loss at step 1500: 19.5800895691\n",
    "Minibatch accuracy: 79.6875\n",
    "Validation accuracy: 37.88\n",
    "Minibatch loss at step 2000: 13.3853445053\n",
    "Minibatch accuracy: 94.53125\n",
    "Validation accuracy: 37.42\n",
    "Minibatch loss at step 2500: 84.9151153564\n",
    "Minibatch accuracy: 50.0\n",
    "Validation accuracy: 33.3\n",
    "Minibatch loss at step 3000: 31.9156742096\n",
    "Minibatch accuracy: 80.46875\n",
    "Validation accuracy: 43.2\n",
    "Test accuracy: 48.94\n",
    "\n",
    "# Test 2\n",
    "\n",
    "batch_size = 128\n",
    "training_epochs = 4001\n",
    "learning_rate = 0.001\n",
    "display_step = 100\n",
    "n_hidden_1 = 1024\n",
    "\n",
    "Graph Variables Initialized!\n",
    "Minibatch loss at step 0: 188.482727051\n",
    "Minibatch accuracy: 17.1875\n",
    "Validation accuracy: 8.42\n",
    "Minibatch loss at step 100: 41.8693504333\n",
    "Minibatch accuracy: 64.84375\n",
    "Validation accuracy: 13.42\n",
    "Minibatch loss at step 200: 11.2613897324\n",
    "Minibatch accuracy: 90.625\n",
    "Validation accuracy: 17.66\n",
    "Minibatch loss at step 300: 7.90046977997\n",
    "Minibatch accuracy: 94.53125\n",
    "Validation accuracy: 14.28\n",
    "Minibatch loss at step 400: 67.6308288574\n",
    "Minibatch accuracy: 57.03125\n",
    "Validation accuracy: 20.84\n",
    "Minibatch loss at step 500: 18.6949558258\n",
    "Minibatch accuracy: 85.15625\n",
    "Validation accuracy: 18.54\n",
    "Minibatch loss at step 600: 8.83920574188\n",
    "Minibatch accuracy: 91.40625\n",
    "Validation accuracy: 15.28\n",
    "Minibatch loss at step 700: 12.4879341125\n",
    "Minibatch accuracy: 92.1875\n",
    "Validation accuracy: 17.48\n",
    "Minibatch loss at step 800: 28.447101593\n",
    "Minibatch accuracy: 78.125\n",
    "Validation accuracy: 29.96\n",
    "Minibatch loss at step 900: 14.2780590057\n",
    "Minibatch accuracy: 88.28125\n",
    "Validation accuracy: 21.8\n",
    "Minibatch loss at step 1000: 5.75940704346\n",
    "Minibatch accuracy: 94.53125\n",
    "Validation accuracy: 24.04\n",
    "Minibatch loss at step 1100: 102.806213379\n",
    "Minibatch accuracy: 42.1875\n",
    "Validation accuracy: 29.92\n",
    "Minibatch loss at step 1200: 20.3330383301\n",
    "Minibatch accuracy: 89.84375\n",
    "Validation accuracy: 31.3\n",
    "Minibatch loss at step 1300: 13.671705246\n",
    "Minibatch accuracy: 87.5\n",
    "Validation accuracy: 26.24\n",
    "Minibatch loss at step 1400: 5.26999282837\n",
    "Minibatch accuracy: 96.875\n",
    "Validation accuracy: 21.92\n",
    "Minibatch loss at step 1500: 30.5073833466\n",
    "Minibatch accuracy: 80.46875\n",
    "Validation accuracy: 37.36\n",
    "Minibatch loss at step 1600: 12.0924053192\n",
    "Minibatch accuracy: 92.1875\n",
    "Validation accuracy: 38.42\n",
    "Minibatch loss at step 1700: 11.088558197\n",
    "Minibatch accuracy: 90.625\n",
    "Validation accuracy: 26.74\n",
    "Minibatch loss at step 1800: 80.5849304199\n",
    "Minibatch accuracy: 53.90625\n",
    "Validation accuracy: 37.06\n",
    "Minibatch loss at step 1900: 20.0569267273\n",
    "Minibatch accuracy: 87.5\n",
    "Validation accuracy: 34.2\n",
    "Minibatch loss at step 2000: 14.1156816483\n",
    "Minibatch accuracy: 92.1875\n",
    "Validation accuracy: 37.14\n",
    "Minibatch loss at step 2100: 7.57651805878\n",
    "Minibatch accuracy: 94.53125\n",
    "Validation accuracy: 31.8\n",
    "Minibatch loss at step 2200: 42.8488693237\n",
    "Minibatch accuracy: 73.4375\n",
    "Validation accuracy: 39.2\n",
    "Minibatch loss at step 2300: 8.9672498703\n",
    "Minibatch accuracy: 93.75\n",
    "Validation accuracy: 43.24\n",
    "Minibatch loss at step 2400: 6.91200876236\n",
    "Minibatch accuracy: 95.3125\n",
    "Validation accuracy: 43.14\n",
    "Minibatch loss at step 2500: 100.945175171\n",
    "Minibatch accuracy: 46.875\n",
    "Validation accuracy: 35.24\n",
    "Minibatch loss at step 2600: 30.9725379944\n",
    "Minibatch accuracy: 78.90625\n",
    "Validation accuracy: 46.12\n",
    "Minibatch loss at step 2700: 8.85964012146\n",
    "Minibatch accuracy: 90.625\n",
    "Validation accuracy: 34.54\n",
    "Minibatch loss at step 2800: 6.50729560852\n",
    "Minibatch accuracy: 96.875\n",
    "Validation accuracy: 40.76\n",
    "Minibatch loss at step 2900: 42.0945625305\n",
    "Minibatch accuracy: 70.3125\n",
    "Validation accuracy: 42.74\n",
    "Minibatch loss at step 3000: 23.724521637\n",
    "Minibatch accuracy: 82.03125\n",
    "Validation accuracy: 43.52\n",
    "Minibatch loss at step 3100: 1.39988613129\n",
    "Minibatch accuracy: 96.09375\n",
    "Validation accuracy: 46.58\n",
    "Minibatch loss at step 3200: 134.838226318\n",
    "Minibatch accuracy: 30.46875\n",
    "Validation accuracy: 47.14\n",
    "Minibatch loss at step 3300: 21.0542926788\n",
    "Minibatch accuracy: 85.9375\n",
    "Validation accuracy: 43.92\n",
    "Minibatch loss at step 3400: 12.7109031677\n",
    "Minibatch accuracy: 87.5\n",
    "Validation accuracy: 48.3\n",
    "Minibatch loss at step 3500: 7.69610118866\n",
    "Minibatch accuracy: 93.75\n",
    "Validation accuracy: 35.44\n",
    "Minibatch loss at step 3600: 34.2297134399\n",
    "Minibatch accuracy: 74.21875\n",
    "Validation accuracy: 49.24\n",
    "Minibatch loss at step 3700: 23.1608200073\n",
    "Minibatch accuracy: 83.59375\n",
    "Validation accuracy: 45.06\n",
    "Minibatch loss at step 3800: 7.34627771378\n",
    "Minibatch accuracy: 92.1875\n",
    "Validation accuracy: 45.04\n",
    "Minibatch loss at step 3900: 3.71520495415\n",
    "Minibatch accuracy: 95.3125\n",
    "Validation accuracy: 48.22\n",
    "Minibatch loss at step 4000: 28.8767375946\n",
    "Minibatch accuracy: 78.125\n",
    "Validation accuracy: 51.6\n",
    "Test accuracy: 58.28\n",
    "\n",
    "# Test 3\n",
    "\n",
    "batch_size = 128\n",
    "training_epochs = 4001\n",
    "learning_rate = 0.0001\n",
    "display_step = 500\n",
    "n_hidden_1 = 1024\n",
    "\n",
    "Graph Variables Initialized!\n",
    "Minibatch loss at step 0: 203.48550415\n",
    "Minibatch accuracy: 17.1875\n",
    "Validation accuracy: 8.66\n",
    "Minibatch loss at step 500: 314.713500977\n",
    "Minibatch accuracy: 3.125\n",
    "Validation accuracy: 18.22\n",
    "Minibatch loss at step 1000: 32.2654914856\n",
    "Minibatch accuracy: 71.09375\n",
    "Validation accuracy: 24.98\n",
    "Minibatch loss at step 1500: 150.726287842\n",
    "Minibatch accuracy: 13.28125\n",
    "Validation accuracy: 30.76\n",
    "Minibatch loss at step 2000: 59.0500297546\n",
    "Minibatch accuracy: 63.28125\n",
    "Validation accuracy: 39.84\n",
    "Minibatch loss at step 2500: 99.9961471558\n",
    "Minibatch accuracy: 41.40625\n",
    "Validation accuracy: 44.94\n",
    "Minibatch loss at step 3000: 94.2091064453\n",
    "Minibatch accuracy: 53.90625\n",
    "Validation accuracy: 47.42\n",
    "Minibatch loss at step 3500: 62.1564483643\n",
    "Minibatch accuracy: 62.5\n",
    "Validation accuracy: 50.98\n",
    "Minibatch loss at step 4000: 72.7012023926\n",
    "Minibatch accuracy: 54.6875\n",
    "Validation accuracy: 55.14\n",
    "Test accuracy: 60.94\n",
    "\n",
    "# Test 4\n",
    "\n",
    "batch_size = 128\n",
    "training_epochs = 6001\n",
    "learning_rate = 0.0001\n",
    "display_step = 500\n",
    "n_hidden_1 = 1024\n",
    "\n",
    "\n",
    "Graph Variables Initialized!\n",
    "Minibatch loss at step 0: 506.006622314\n",
    "Minibatch accuracy: 1.5625\n",
    "Validation accuracy: 8.78\n",
    "Minibatch loss at step 500: 311.409423828\n",
    "Minibatch accuracy: 7.03125\n",
    "Validation accuracy: 16.62\n",
    "Minibatch loss at step 1000: 36.9946594238\n",
    "Minibatch accuracy: 67.1875\n",
    "Validation accuracy: 25.12\n",
    "Minibatch loss at step 1500: 134.231628418\n",
    "Minibatch accuracy: 27.34375\n",
    "Validation accuracy: 32.5\n",
    "Minibatch loss at step 2000: 55.6944351196\n",
    "Minibatch accuracy: 61.71875\n",
    "Validation accuracy: 36.5\n",
    "Minibatch loss at step 2500: 125.744949341\n",
    "Minibatch accuracy: 21.09375\n",
    "Validation accuracy: 43.9\n",
    "Minibatch loss at step 3000: 81.8246002197\n",
    "Minibatch accuracy: 59.375\n",
    "Validation accuracy: 47.64\n",
    "Minibatch loss at step 3500: 45.8662719727\n",
    "Minibatch accuracy: 66.40625\n",
    "Validation accuracy: 48.54\n",
    "Minibatch loss at step 4000: 81.9520874023\n",
    "Minibatch accuracy: 50.78125\n",
    "Validation accuracy: 54.76\n",
    "Minibatch loss at step 4500: 42.9420814514\n",
    "Minibatch accuracy: 66.40625\n",
    "Validation accuracy: 53.74\n",
    "Minibatch loss at step 5000: 86.2162246704\n",
    "Minibatch accuracy: 45.3125\n",
    "Validation accuracy: 56.96\n",
    "Minibatch loss at step 5500: 52.2057647705\n",
    "Minibatch accuracy: 63.28125\n",
    "Validation accuracy: 60.0\n",
    "Minibatch loss at step 6000: 51.0174026489\n",
    "Minibatch accuracy: 66.40625\n",
    "Validation accuracy: 58.26\n",
    "Test accuracy: 65.0"
   ]
  },
  {
   "cell_type": "code",
   "execution_count": 63,
   "metadata": {
    "collapsed": false
   },
   "outputs": [],
   "source": [
    "#hyper-parameters\n",
    "\n",
    "batch_size = 128\n",
    "training_epochs = 6001\n",
    "learning_rate = 0.0001\n",
    "display_step = 500\n",
    "n_hidden_1 = 1024\n",
    "n_imput = image_size * image_size\n",
    "n_classes = num_labels\n",
    "\n",
    "#Neuronal network definitio as a TF Graph\n",
    "graph = tf.Graph()\n",
    "with graph.as_default():\n",
    "    \n",
    "    #graph imputs\n",
    "    tf_train_dataset = tf.placeholder(tf.float32, shape = (batch_size, n_imput))\n",
    "    tf_train_labels = tf.placeholder(tf.float32, shape = (batch_size, n_classes))\n",
    "    tf_valid_dataset = tf.constant(valid_dataset)\n",
    "    tf_test_dataset = tf.constant(test_dataset)\n",
    "    \n",
    "    #graph variables\n",
    "    weights = {\n",
    "        'h1': tf.Variable(tf.truncated_normal([n_imput, n_hidden_1])),\n",
    "        'out': tf.Variable(tf.truncated_normal([n_hidden_1,n_classes]))\n",
    "    }\n",
    "    \n",
    "    biases = {\n",
    "        'b1': tf.Variable(tf.zeros([n_hidden_1])),\n",
    "        'out': tf.Variable(tf.zeros([n_classes]))\n",
    "    }\n",
    "    \n",
    "    #Network Topology: Fully connected 1 hidden 1024 neurons, relu activation function.\n",
    "    \n",
    "    net_out = mlp(tf_train_dataset, weights, biases)\n",
    "    \n",
    "    #now we define the cost (loss) function\n",
    "    loss = tf.reduce_mean(tf.nn.softmax_cross_entropy_with_logits(net_out,tf_train_labels))\n",
    "    \n",
    "    #new we define out optimizer\n",
    "    optimizer = tf.train.GradientDescentOptimizer(learning_rate).minimize(loss)\n",
    "    \n",
    "    #now we define the prediction operations for training, validation and test data.\n",
    "    train_prediction = tf.nn.softmax(net_out)\n",
    "    valid_prediction = tf.nn.softmax(mlp(tf_valid_dataset,weights,biases))\n",
    "    test_prediction = tf.nn.softmax(mlp(tf_test_dataset,weights,biases))\n",
    "    \n",
    "    "
   ]
  },
  {
   "cell_type": "code",
   "execution_count": 64,
   "metadata": {
    "collapsed": false,
    "scrolled": true
   },
   "outputs": [
    {
     "name": "stdout",
     "output_type": "stream",
     "text": [
      "Graph Variables Initialized!\n",
      "Minibatch loss at step 0: 506.006622314\n",
      "Minibatch accuracy: 1.5625\n",
      "Validation accuracy: 8.78\n",
      "Minibatch loss at step 500: 311.409423828\n",
      "Minibatch accuracy: 7.03125\n",
      "Validation accuracy: 16.62\n",
      "Minibatch loss at step 1000: 36.9946594238\n",
      "Minibatch accuracy: 67.1875\n",
      "Validation accuracy: 25.12\n",
      "Minibatch loss at step 1500: 134.231628418\n",
      "Minibatch accuracy: 27.34375\n",
      "Validation accuracy: 32.5\n",
      "Minibatch loss at step 2000: 55.6944351196\n",
      "Minibatch accuracy: 61.71875\n",
      "Validation accuracy: 36.5\n",
      "Minibatch loss at step 2500: 125.744949341\n",
      "Minibatch accuracy: 21.09375\n",
      "Validation accuracy: 43.9\n",
      "Minibatch loss at step 3000: 81.8246002197\n",
      "Minibatch accuracy: 59.375\n",
      "Validation accuracy: 47.64\n",
      "Minibatch loss at step 3500: 45.8662719727\n",
      "Minibatch accuracy: 66.40625\n",
      "Validation accuracy: 48.54\n",
      "Minibatch loss at step 4000: 81.9520874023\n",
      "Minibatch accuracy: 50.78125\n",
      "Validation accuracy: 54.76\n",
      "Minibatch loss at step 4500: 42.9420814514\n",
      "Minibatch accuracy: 66.40625\n",
      "Validation accuracy: 53.74\n",
      "Minibatch loss at step 5000: 86.2162246704\n",
      "Minibatch accuracy: 45.3125\n",
      "Validation accuracy: 56.96\n",
      "Minibatch loss at step 5500: 52.2057647705\n",
      "Minibatch accuracy: 63.28125\n",
      "Validation accuracy: 60.0\n",
      "Minibatch loss at step 6000: 51.0174026489\n",
      "Minibatch accuracy: 66.40625\n",
      "Validation accuracy: 58.26\n",
      "Test accuracy: 65.0\n"
     ]
    },
    {
     "data": {
      "image/png": "[encoded data removed]",
      "text/plain": [
       "<matplotlib.figure.Figure at 0x7f4be3a247d0>"
      ]
     },
     "metadata": {},
     "output_type": "display_data"
    }
   ],
   "source": [
    "%matplotlib inline\n",
    "\n",
    "import matplotlib.pyplot as plt\n",
    "\n",
    "#let't store the cost at each epoch in order to plot it at the end\n",
    "\n",
    "mycost = []\n",
    "epoch = []\n",
    "\n",
    "#we compute the graph now!\n",
    "\n",
    "with tf.Session(graph=graph) as session:\n",
    "    #initializing the graph variables\n",
    "    tf.initialize_all_variables().run()\n",
    "    print(\"Graph Variables Initialized!\")\n",
    "    \n",
    "    for step in range(training_epochs):\n",
    "        #calculate the offset for the mini-batch\n",
    "        offset = (step * batch_size) % (train_labels.shape[0] - batch_size)\n",
    "        \n",
    "        #generate the mini-batch\n",
    "        batch_data = train_dataset[offset:(offset+batch_size), :]\n",
    "        batch_labels = train_labels[offset:(offset+batch_size), :]\n",
    "        \n",
    "        # Prepare a dictionary telling the session where to feed the minibatch.\n",
    "        # The key of the dictionary is the placeholder node of the graph to be fed,\n",
    "        # and the value is the numpy array to feed to it.\n",
    "        feed_dict = {tf_train_dataset : batch_data, tf_train_labels : batch_labels}\n",
    "        \n",
    "        #running the graph with the mini-batch data as the training dataset\n",
    "        dummy, l, predictions = session.run([optimizer, loss, train_prediction], feed_dict=feed_dict)\n",
    "        \n",
    "        \n",
    "        \n",
    "        #printing partial results each display_steps times\n",
    "        if(step % display_step == 0):\n",
    "            mycost.append(l)\n",
    "            epoch.append(step)\n",
    "            print(\"Minibatch loss at step {}: {}\".format(step,l))\n",
    "            print(\"Minibatch accuracy: {}\".format(accuracy(predictions,batch_labels)))\n",
    "            print(\"Validation accuracy: {}\".format(accuracy(valid_prediction.eval(), valid_labels)))\n",
    "    print(\"Test accuracy: {}\".format(accuracy(test_prediction.eval(),test_labels)))\n",
    "    \n",
    "    plt.plot(epoch,mycost,linewidth=2)"
   ]
  }
 ],
 "metadata": {
  "colab": {
   "default_view": {},
   "name": "2_fullyconnected.ipynb",
   "provenance": [],
   "version": "0.3.2",
   "views": {}
  },
  "kernelspec": {
   "display_name": "Python 2",
   "language": "python",
   "name": "python2"
  },
  "language_info": {
   "codemirror_mode": {
    "name": "ipython",
    "version": 2
   },
   "file_extension": ".py",
   "mimetype": "text/x-python",
   "name": "python",
   "nbconvert_exporter": "python",
   "pygments_lexer": "ipython2",
   "version": "2.7.6"
  }
 },
 "nbformat": 4,
 "nbformat_minor": 0
}
